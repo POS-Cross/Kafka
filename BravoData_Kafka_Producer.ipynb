{
  "nbformat": 4,
  "nbformat_minor": 0,
  "metadata": {
    "colab": {
      "name": "BravoData_Kafka_Producer.ipynb",
      "provenance": [],
      "collapsed_sections": [],
      "authorship_tag": "ABX9TyOU70UtmBRVN80MtffYTTnS",
      "include_colab_link": true
    },
    "kernelspec": {
      "name": "python3",
      "display_name": "Python 3"
    },
    "language_info": {
      "name": "python"
    }
  },
  "cells": [
    {
      "cell_type": "markdown",
      "metadata": {
        "id": "view-in-github",
        "colab_type": "text"
      },
      "source": [
        "<a href=\"https://colab.research.google.com/github/POS-Cross/Kafka/blob/main/BravoData_Kafka_Producer.ipynb\" target=\"_parent\"><img src=\"https://colab.research.google.com/assets/colab-badge.svg\" alt=\"Open In Colab\"/></a>"
      ]
    },
    {
      "cell_type": "code",
      "execution_count": 1,
      "metadata": {
        "colab": {
          "base_uri": "https://localhost:8080/"
        },
        "id": "O1RjM6u3REYn",
        "outputId": "8f47debf-5e40-45ca-bd99-138782a70948"
      },
      "outputs": [
        {
          "output_type": "stream",
          "name": "stdout",
          "text": [
            "Collecting kafka-python\n",
            "  Downloading kafka_python-2.0.2-py2.py3-none-any.whl (246 kB)\n",
            "\u001b[K     |████████████████████████████████| 246 kB 5.2 MB/s \n",
            "\u001b[?25hInstalling collected packages: kafka-python\n",
            "Successfully installed kafka-python-2.0.2\n",
            "Requirement already satisfied: kaggle in /usr/local/lib/python3.7/dist-packages (1.5.12)\n",
            "Requirement already satisfied: python-slugify in /usr/local/lib/python3.7/dist-packages (from kaggle) (5.0.2)\n",
            "Requirement already satisfied: requests in /usr/local/lib/python3.7/dist-packages (from kaggle) (2.23.0)\n",
            "Requirement already satisfied: tqdm in /usr/local/lib/python3.7/dist-packages (from kaggle) (4.62.3)\n",
            "Requirement already satisfied: urllib3 in /usr/local/lib/python3.7/dist-packages (from kaggle) (1.24.3)\n",
            "Requirement already satisfied: python-dateutil in /usr/local/lib/python3.7/dist-packages (from kaggle) (2.8.2)\n",
            "Requirement already satisfied: six>=1.10 in /usr/local/lib/python3.7/dist-packages (from kaggle) (1.15.0)\n",
            "Requirement already satisfied: certifi in /usr/local/lib/python3.7/dist-packages (from kaggle) (2021.10.8)\n",
            "Requirement already satisfied: text-unidecode>=1.3 in /usr/local/lib/python3.7/dist-packages (from python-slugify->kaggle) (1.3)\n",
            "Requirement already satisfied: idna<3,>=2.5 in /usr/local/lib/python3.7/dist-packages (from requests->kaggle) (2.10)\n",
            "Requirement already satisfied: chardet<4,>=3.0.2 in /usr/local/lib/python3.7/dist-packages (from requests->kaggle) (3.0.4)\n",
            "Downloading bravodata.zip to /content\n",
            " 91% 102M/112M [00:00<00:00, 117MB/s]  \n",
            "100% 112M/112M [00:00<00:00, 128MB/s]\n"
          ]
        }
      ],
      "source": [
        "!pip install kafka-python\n",
        "! pip install kaggle\n",
        "! mkdir ~/.kaggle\n",
        "! cp kaggle.json ~/.kaggle/\n",
        "! chmod 600 ~/.kaggle/kaggle.json\n",
        "! kaggle datasets download -d khaledanaqwa/bravodata"
      ]
    },
    {
      "cell_type": "code",
      "source": [
        "import pandas as pd\n",
        "\n",
        "CSV = '/content/bravodata.zip'\n",
        "\n",
        "df_items=pd.read_csv(CSV)\n"
      ],
      "metadata": {
        "id": "9puUmL3rgmZ3"
      },
      "execution_count": 2,
      "outputs": []
    },
    {
      "cell_type": "code",
      "source": [
        "df_items['ItemName'] = df_items['ItemName'].str.strip()\n"
      ],
      "metadata": {
        "id": "UP9RJhauGLLV"
      },
      "execution_count": 5,
      "outputs": []
    },
    {
      "cell_type": "code",
      "source": [
        "from kafka import KafkaProducer\n",
        "import logging\n",
        "from json import dumps, loads\n",
        "import csv\n",
        "import gzip\n",
        "logging.basicConfig(level=logging.INFO)\n",
        "\n",
        "producer = KafkaProducer(bootstrap_servers=['18.191.155.106:9092'],value_serializer=lambda x:dumps(x).encode('utf-8'))\n",
        "TOPIC_NAME ='bravo-topic'\n",
        "\n",
        "for i in range(1000000):           \n",
        "  # print(dict(row)[\"dTicketInternalKey\"])\n",
        "  producer.send(topic=TOPIC_NAME, value=df_items.iloc[i].to_json())\n",
        "  producer.flush()"
      ],
      "metadata": {
        "colab": {
          "base_uri": "https://localhost:8080/"
        },
        "id": "AEEPkY7KGtDh",
        "outputId": "028650a5-7f06-4053-9e56-c9216637e89d"
      },
      "execution_count": null,
      "outputs": [
        {
          "metadata": {
            "tags": null
          },
          "name": "stderr",
          "output_type": "stream",
          "text": [
            "INFO:kafka.conn:<BrokerConnection node_id=bootstrap-0 host=18.191.155.106:9092 <connecting> [IPv4 ('18.191.155.106', 9092)]>: connecting to 18.191.155.106:9092 [('18.191.155.106', 9092) IPv4]\n",
            "INFO:kafka.conn:Probing node bootstrap-0 broker version\n",
            "INFO:kafka.conn:<BrokerConnection node_id=bootstrap-0 host=18.191.155.106:9092 <connecting> [IPv4 ('18.191.155.106', 9092)]>: Connection complete.\n",
            "INFO:kafka.conn:Broker version identified as 2.5.0\n",
            "INFO:kafka.conn:Set configuration api_version=(2, 5, 0) to skip auto check_version requests on startup\n",
            "INFO:kafka.conn:<BrokerConnection node_id=0 host=18.191.155.106:9092 <connecting> [IPv4 ('18.191.155.106', 9092)]>: connecting to 18.191.155.106:9092 [('18.191.155.106', 9092) IPv4]\n",
            "INFO:kafka.conn:<BrokerConnection node_id=0 host=18.191.155.106:9092 <connected> [IPv4 ('18.191.155.106', 9092)]>: Closing connection. \n",
            "INFO:kafka.conn:<BrokerConnection node_id=0 host=18.191.155.106:9092 <connecting> [IPv4 ('18.191.155.106', 9092)]>: Connection complete.\n",
            "INFO:kafka.conn:<BrokerConnection node_id=bootstrap-0 host=18.191.155.106:9092 <connected> [IPv4 ('18.191.155.106', 9092)]>: Closing connection. \n"
          ]
        }
      ]
    }
  ]
}